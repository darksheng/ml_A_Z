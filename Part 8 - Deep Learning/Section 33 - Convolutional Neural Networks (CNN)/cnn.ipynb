{
 "cells": [
  {
   "cell_type": "code",
   "execution_count": 1,
   "metadata": {},
   "outputs": [],
   "source": [
    "# Convolutional Neural Network\n",
    "\n",
    "# Installing Theano\n",
    "# pip install --upgrade --no-deps git+git://github.com/Theano/Theano.git\n",
    "\n",
    "# Installing Tensorflow\n",
    "# Install Tensorflow from the website: https://www.tensorflow.org/versions/r0.12/get_started/os_setup.html\n",
    "\n",
    "# Installing Keras\n",
    "# pip install --upgrade keras\n",
    "\n"
   ]
  },
  {
   "cell_type": "markdown",
   "metadata": {},
   "source": [
    "# Part 1 - Building the CNN"
   ]
  },
  {
   "cell_type": "code",
   "execution_count": 2,
   "metadata": {},
   "outputs": [],
   "source": [
    "# Importing the Keras libraries and packages\n",
    "from tensorflow.keras.models import Sequential\n",
    "from tensorflow.keras.layers import Convolution2D\n",
    "from tensorflow.keras.layers import MaxPooling2D\n",
    "from tensorflow.keras.layers import Flatten\n",
    "from tensorflow.keras.layers import Dense"
   ]
  },
  {
   "cell_type": "code",
   "execution_count": 3,
   "metadata": {},
   "outputs": [],
   "source": [
    "# Initialising the CNN\n",
    "classifier = Sequential()"
   ]
  },
  {
   "cell_type": "code",
   "execution_count": 4,
   "metadata": {},
   "outputs": [],
   "source": [
    "# Step 1 - Convolution\n",
    "classifier.add(Convolution2D(32, 3, 3, input_shape = (64, 64, 3), activation = 'relu'))\n",
    "# 输入需要标注数据的大小"
   ]
  },
  {
   "cell_type": "code",
   "execution_count": 5,
   "metadata": {},
   "outputs": [],
   "source": [
    "# Step 2 - Pooling\n",
    "classifier.add(MaxPooling2D(pool_size = (2, 2)))"
   ]
  },
  {
   "cell_type": "code",
   "execution_count": 6,
   "metadata": {},
   "outputs": [],
   "source": [
    "# Adding a second convolutional layer\n",
    "# 添加新的卷积层来提高精度\n",
    "classifier.add(Convolution2D(32, 3, 3, activation = 'relu'))\n",
    "classifier.add(MaxPooling2D(pool_size = (2, 2)))"
   ]
  },
  {
   "cell_type": "code",
   "execution_count": 7,
   "metadata": {},
   "outputs": [],
   "source": [
    "# Step 3 - Flattening\n",
    "classifier.add(Flatten())"
   ]
  },
  {
   "cell_type": "code",
   "execution_count": 10,
   "metadata": {},
   "outputs": [],
   "source": [
    "# Step 4 - Full connection\n",
    "classifier.add(Dense(units = 128, activation = 'relu'))\n",
    "classifier.add(Dense(units = 1, activation = 'sigmoid'))"
   ]
  },
  {
   "cell_type": "code",
   "execution_count": 11,
   "metadata": {},
   "outputs": [],
   "source": [
    "# Compiling the CNN\n",
    "classifier.compile(optimizer = 'adam', loss = 'binary_crossentropy', metrics = ['accuracy'])"
   ]
  },
  {
   "cell_type": "markdown",
   "metadata": {},
   "source": [
    "# Part 2 - Fitting the CNN to the images"
   ]
  },
  {
   "cell_type": "code",
   "execution_count": 13,
   "metadata": {},
   "outputs": [],
   "source": [
    "from tensorflow.keras.preprocessing.image import ImageDataGenerator\n",
    "\n",
    "train_datagen = ImageDataGenerator(rescale = 1./255,\n",
    "                                   shear_range = 0.2,\n",
    "                                   zoom_range = 0.2,\n",
    "                                   horizontal_flip = True)\n",
    "\n",
    "test_datagen = ImageDataGenerator(rescale = 1./255)"
   ]
  },
  {
   "cell_type": "code",
   "execution_count": 14,
   "metadata": {},
   "outputs": [
    {
     "name": "stdout",
     "output_type": "stream",
     "text": [
      "Found 7998 images belonging to 2 classes.\n",
      "Found 2000 images belonging to 2 classes.\n"
     ]
    }
   ],
   "source": [
    "training_set = train_datagen.flow_from_directory('dataset/training_set',\n",
    "                                                 target_size = (64, 64),\n",
    "                                                 batch_size = 32,\n",
    "                                                 class_mode = 'binary')\n",
    "\n",
    "test_set = test_datagen.flow_from_directory('dataset/test_set',\n",
    "                                            target_size = (64, 64),\n",
    "                                            batch_size = 32,\n",
    "                                            class_mode = 'binary')"
   ]
  },
  {
   "cell_type": "code",
   "execution_count": 21,
   "metadata": {},
   "outputs": [
    {
     "name": "stdout",
     "output_type": "stream",
     "text": [
      "Epoch 1/25\n",
      "250/250 [==============================] - 42s 166ms/step - loss: 0.6897 - accuracy: 0.5386 - val_loss: 0.7024 - val_accuracy: 0.4990\n",
      "Epoch 2/25\n",
      "250/250 [==============================] - 44s 177ms/step - loss: 0.6815 - accuracy: 0.5581 - val_loss: 0.6689 - val_accuracy: 0.5820\n",
      "Epoch 3/25\n",
      "250/250 [==============================] - 40s 161ms/step - loss: 0.6732 - accuracy: 0.5781 - val_loss: 0.6668 - val_accuracy: 0.6025\n",
      "Epoch 4/25\n",
      "250/250 [==============================] - 39s 155ms/step - loss: 0.6592 - accuracy: 0.5975 - val_loss: 0.6591 - val_accuracy: 0.6225\n",
      "Epoch 5/25\n",
      "250/250 [==============================] - 39s 156ms/step - loss: 0.6530 - accuracy: 0.6153 - val_loss: 0.6382 - val_accuracy: 0.6360\n",
      "Epoch 6/25\n",
      "250/250 [==============================] - 39s 155ms/step - loss: 0.6413 - accuracy: 0.6330 - val_loss: 0.6628 - val_accuracy: 0.6095\n",
      "Epoch 7/25\n",
      "250/250 [==============================] - 38s 152ms/step - loss: 0.6395 - accuracy: 0.6367 - val_loss: 0.6395 - val_accuracy: 0.6500\n",
      "Epoch 8/25\n",
      "250/250 [==============================] - 39s 157ms/step - loss: 0.6356 - accuracy: 0.6357 - val_loss: 0.6423 - val_accuracy: 0.6470\n",
      "Epoch 9/25\n",
      "250/250 [==============================] - 38s 153ms/step - loss: 0.6268 - accuracy: 0.6453 - val_loss: 0.6150 - val_accuracy: 0.6670\n",
      "Epoch 10/25\n",
      "250/250 [==============================] - 39s 156ms/step - loss: 0.6240 - accuracy: 0.6545 - val_loss: 0.6266 - val_accuracy: 0.6520\n",
      "Epoch 11/25\n",
      "250/250 [==============================] - 38s 153ms/step - loss: 0.6150 - accuracy: 0.6625 - val_loss: 0.6307 - val_accuracy: 0.6455\n",
      "Epoch 12/25\n",
      "250/250 [==============================] - 39s 155ms/step - loss: 0.6122 - accuracy: 0.6558 - val_loss: 0.6181 - val_accuracy: 0.6705\n",
      "Epoch 13/25\n",
      "250/250 [==============================] - 37s 150ms/step - loss: 0.6166 - accuracy: 0.6587 - val_loss: 0.6084 - val_accuracy: 0.6710\n",
      "Epoch 14/25\n",
      "250/250 [==============================] - 39s 157ms/step - loss: 0.6100 - accuracy: 0.6672 - val_loss: 0.6208 - val_accuracy: 0.6645\n",
      "Epoch 15/25\n",
      "250/250 [==============================] - 39s 156ms/step - loss: 0.6114 - accuracy: 0.6582 - val_loss: 0.6199 - val_accuracy: 0.6560\n",
      "Epoch 16/25\n",
      "250/250 [==============================] - 39s 156ms/step - loss: 0.6120 - accuracy: 0.6598 - val_loss: 0.6042 - val_accuracy: 0.6715\n",
      "Epoch 17/25\n",
      "250/250 [==============================] - 38s 154ms/step - loss: 0.6024 - accuracy: 0.6702 - val_loss: 0.5895 - val_accuracy: 0.6950\n",
      "Epoch 18/25\n",
      "250/250 [==============================] - 38s 153ms/step - loss: 0.5972 - accuracy: 0.6764 - val_loss: 0.5923 - val_accuracy: 0.6775\n",
      "Epoch 19/25\n",
      "250/250 [==============================] - 39s 156ms/step - loss: 0.5950 - accuracy: 0.6717 - val_loss: 0.6020 - val_accuracy: 0.6890\n",
      "Epoch 20/25\n",
      "250/250 [==============================] - 38s 153ms/step - loss: 0.6006 - accuracy: 0.6714 - val_loss: 0.6508 - val_accuracy: 0.6260\n",
      "Epoch 21/25\n",
      "250/250 [==============================] - 38s 151ms/step - loss: 0.5993 - accuracy: 0.6710 - val_loss: 0.5961 - val_accuracy: 0.6845\n",
      "Epoch 22/25\n",
      "250/250 [==============================] - 38s 153ms/step - loss: 0.5872 - accuracy: 0.6829 - val_loss: 0.5992 - val_accuracy: 0.6860\n",
      "Epoch 23/25\n",
      "250/250 [==============================] - 39s 155ms/step - loss: 0.5860 - accuracy: 0.6893 - val_loss: 0.5927 - val_accuracy: 0.6900\n",
      "Epoch 24/25\n",
      "250/250 [==============================] - 38s 151ms/step - loss: 0.5841 - accuracy: 0.6877 - val_loss: 0.5924 - val_accuracy: 0.6795\n",
      "Epoch 25/25\n",
      "250/250 [==============================] - 38s 154ms/step - loss: 0.5849 - accuracy: 0.6910 - val_loss: 0.6067 - val_accuracy: 0.6705\n"
     ]
    },
    {
     "data": {
      "text/plain": [
       "<tensorflow.python.keras.callbacks.History at 0x7f92cb48f390>"
      ]
     },
     "execution_count": 21,
     "metadata": {},
     "output_type": "execute_result"
    }
   ],
   "source": [
    "classifier.fit_generator(training_set,\n",
    "                         steps_per_epoch = 250,  # 8000张图片在训练集里面/batch_size个数\n",
    "                         epochs = 25,             # 训练的期数\n",
    "                         validation_data = test_set,\n",
    "                         validation_steps = 62.5)  # 2000张训练集/batch_size个数"
   ]
  },
  {
   "cell_type": "code",
   "execution_count": null,
   "metadata": {},
   "outputs": [],
   "source": [
    "# Making the Confusion Matrix\n",
    "from sklearn.metrics import confusion_matrix\n",
    "cm = confusion_matrix(y_test, y_pred)"
   ]
  },
  {
   "cell_type": "markdown",
   "metadata": {},
   "source": [
    "# import model accuracy\n",
    "\n",
    "## m1 增加数据、或者放大图形\n",
    "\n",
    "## m2 在卷积层增加\n",
    "\n",
    "## m3 在扁平层添加"
   ]
  }
 ],
 "metadata": {
  "kernelspec": {
   "display_name": "Python 3",
   "language": "python",
   "name": "python3"
  },
  "language_info": {
   "codemirror_mode": {
    "name": "ipython",
    "version": 3
   },
   "file_extension": ".py",
   "mimetype": "text/x-python",
   "name": "python",
   "nbconvert_exporter": "python",
   "pygments_lexer": "ipython3",
   "version": "3.7.4"
  }
 },
 "nbformat": 4,
 "nbformat_minor": 4
}
